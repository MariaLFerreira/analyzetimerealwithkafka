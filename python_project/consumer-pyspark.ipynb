{
 "cells": [
  {
   "cell_type": "code",
   "execution_count": null,
   "metadata": {},
   "outputs": [],
   "source": [
    "import os\n",
    "from pyspark import SparkContext, SparkConf\n",
    "from pyspark.streaming import StreamingContext\n",
    "from pyspark.streaming.kafka import KafkaUtils\n",
    "from kafka import KafkaProducer\n",
    "import json\n",
    "from time import sleep\n",
    "import nltk \n",
    "nltk.download('punkt')\n",
    "nltk.download('stopwords')\n",
    "from nltk.corpus import stopwords\n"
   ]
  },
  {
   "cell_type": "code",
   "execution_count": null,
   "metadata": {},
   "outputs": [],
   "source": [
    "conf = SparkConf().setAppName(\"Tweets\").set(\"spark.jars\", \"./spark-streaming-kafka-0-8-assembly_2.11-2.4.5.jar\")\n",
    "sc = SparkContext(conf=conf)\n",
    "ssc = StreamingContext(sc,1)"
   ]
  },
  {
   "cell_type": "code",
   "execution_count": null,
   "metadata": {},
   "outputs": [],
   "source": [
    "def send_to_kafka(word):\n",
    "    word_topic = 'palavras-tweets'\n",
    "    data = {'word': word[0], 'num': word[1]}\n",
    "    producer = KafkaProducer(bootstrap_servers=['localhost:9092'])\n",
    "    producer.send(word_topic, value=json.dumps(data).encode('utf-8'))\n",
    "    producer.flush()\n",
    "    return data\n",
    "\n",
    "def remove_stopwords(word):\n",
    "    stopwords_pt = stopwords.words('portuguese')\n",
    "    stopwords_pt = stopwords_pt + ['RT', 'http', 'https']\n",
    "    return word not in stopwords_pt"
   ]
  },
  {
   "cell_type": "code",
   "execution_count": null,
   "metadata": {},
   "outputs": [],
   "source": [
    "tweets_topic = 'dados-tweets'\n",
    "stream = KafkaUtils.createDirectStream(ssc, [tweets_topic], {\"metadata.broker.list\": 'localhost:9092'})\n",
    "stream.count().map(lambda x:'Tweets nesse batch: %s' % x).pprint()\n",
    "stream.map(lambda x: json.loads(x[1])['tweet']) \\\n",
    "      .flatMap(lambda x: x.split(\" \")) \\\n",
    "      .countByValue()\\\n",
    "      .transform(lambda rdd:rdd.sortBy(lambda x:-x[1]))\\\n",
    "      .map(send_to_kafka)\\\n",
    "      .pprint()\n",
    "ssc.start()\n",
    "ssc.awaitTermination()"
   ]
  }
 ],
 "metadata": {
  "kernelspec": {
   "display_name": "Python 3.10.5 64-bit",
   "language": "python",
   "name": "python3"
  },
  "language_info": {
   "name": "python",
   "version": "3.10.5"
  },
  "orig_nbformat": 4,
  "vscode": {
   "interpreter": {
    "hash": "2cb6a388fb29a4ca9dfda72ad694368ebd3f46c4891f60460a2af879d94adf59"
   }
  }
 },
 "nbformat": 4,
 "nbformat_minor": 2
}
