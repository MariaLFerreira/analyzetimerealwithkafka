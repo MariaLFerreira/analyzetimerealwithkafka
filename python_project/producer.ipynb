{
 "cells": [
  {
   "cell_type": "code",
   "execution_count": null,
   "metadata": {},
   "outputs": [],
   "source": [
    "from datetime import datetime\n",
    "from pytz import timezone\n",
    "from textblob import TextBlob as tb\n",
    "import tweepy\n",
    "from time import sleep\n",
    "from json import dumps\n",
    "from kafka import KafkaProducer"
   ]
  },
  {
   "cell_type": "code",
   "execution_count": null,
   "metadata": {},
   "outputs": [],
   "source": [
    "## chaves do twitter\n",
    "consumer_key = 'Ih89kaOwY2nCsP7U1ePiAhD7m'\n",
    "consumer_secret = 'LiCrCKZtgpWEeqnlOgJ9LKfbJwuox36oKGM44tQuqeJjXWOmsm'\n",
    "access_token = '1513213599493283841-lZPCmdzZDdaznfXD7uHGLwywOmgPIh'\n",
    "access_token_secret = 'pfspCLhAaFhn5MxNQFUWTlXjhgugFE9b3St9QIDC8uQdu'"
   ]
  },
  {
   "cell_type": "code",
   "execution_count": null,
   "metadata": {},
   "outputs": [],
   "source": [
    "#confiração do kafka\n",
    "broker = 'localhost:9092'\n",
    "topico = 'dados-tweets'\n",
    "producer = KafkaProducer(bootstrap_servers=[broker],\n",
    "                         value_serializer=lambda x:\n",
    "                         dumps(x).encode('utf-8'))"
   ]
  },
  {
   "cell_type": "code",
   "execution_count": null,
   "metadata": {},
   "outputs": [],
   "source": [
    "#configuração da do twitter\n",
    "auth = tweepy.OAuthHandler(consumer_key, consumer_secret)\n",
    "auth.set_access_token(access_token, access_token_secret)\n",
    "api = tweepy.API(auth)\n",
    "\n",
    "tweets = api.search('bolsonaro', count=100)"
   ]
  },
  {
   "cell_type": "code",
   "execution_count": null,
   "metadata": {},
   "outputs": [],
   "source": [
    "for tweet in tweets:\n",
    "  frase = str(tb(tweet.text))\n",
    "  data_e_hora_completa = datetime.now()\n",
    "  data_string = data_e_hora_completa.strftime('%Y-%m-%d %H:%M:%S')\n",
    "  dados = {\"tweet\": frase, \"horario\": data_string}\n",
    "  print(frase)\n",
    "  producer.send(topico, value=dados)\n",
    "  sleep(1)"
   ]
  }
 ],
 "metadata": {
  "language_info": {
   "name": "python"
  },
  "orig_nbformat": 4
 },
 "nbformat": 4,
 "nbformat_minor": 2
}
