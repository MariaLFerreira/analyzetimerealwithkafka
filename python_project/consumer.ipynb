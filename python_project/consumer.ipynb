{
 "cells": [
  {
   "cell_type": "code",
   "execution_count": null,
   "metadata": {},
   "outputs": [],
   "source": [
    "from kafka import KafkaConsumer\n",
    "from wordcloud import WordCloud\n",
    "import matplotlib.pyplot as plt\n",
    "import json\n",
    "from IPython.display import clear_output"
   ]
  },
  {
   "cell_type": "code",
   "execution_count": null,
   "metadata": {},
   "outputs": [],
   "source": [
    "import nltk \n",
    "nltk.download('punkt')\n",
    "nltk.download('stopwords')\n",
    "from nltk.corpus import stopwords"
   ]
  },
  {
   "cell_type": "code",
   "execution_count": null,
   "metadata": {},
   "outputs": [],
   "source": [
    "STOPWORDS = set(stopwords.words('portuguese'))\n",
    "STOPWORDS2 = ['RT', 'https', 'co']"
   ]
  },
  {
   "cell_type": "code",
   "execution_count": null,
   "metadata": {},
   "outputs": [],
   "source": [
    "def remove_stopwords(texto):\n",
    "    texto_limpo = ' '.join(palavra for palavra in texto.split() if palavra not in STOPWORDS)\n",
    "    texto_final = ' '.join(palavra for palavra in texto_limpo.split() if palavra not in STOPWORDS2)\n",
    "    return texto_final"
   ]
  },
  {
   "cell_type": "code",
   "execution_count": null,
   "metadata": {},
   "outputs": [],
   "source": [
    "#configuração do kafka\n",
    "brokers = ['localhost:9092']\n",
    "topico = 'dados-tweets'\n",
    "\n",
    "consumer = KafkaConsumer(topico, group_id = 'group1', bootstrap_servers = brokers)"
   ]
  },
  {
   "cell_type": "markdown",
   "metadata": {},
   "source": [
    "Nuvem de Palavras"
   ]
  },
  {
   "cell_type": "code",
   "execution_count": null,
   "metadata": {},
   "outputs": [],
   "source": [
    "#geração da nuvem de palavras em tempo real\n",
    "frases = ''\n",
    "for messagem in consumer:\n",
    "    texto = json.loads(messagem.value.decode('utf-8'))\n",
    "    frases = frases + remove_stopwords(texto['tweet'])\n",
    "    clear_output()\n",
    "    wordcloud = WordCloud(max_font_size=100, width = 1520, height = 535).generate(frases)\n",
    "    plt.figure(figsize=(16,9))\n",
    "    plt.imshow(wordcloud)\n",
    "    plt.axis(\"off\")\n",
    "    plt.show()"
   ]
  },
  {
   "cell_type": "markdown",
   "metadata": {},
   "source": [
    "PySpark"
   ]
  },
  {
   "cell_type": "code",
   "execution_count": null,
   "metadata": {},
   "outputs": [],
   "source": [
    "from pyspark.sql import SparkSession, SQLContext, Row\n",
    "import pyspark.sql.functions as f\n",
    "from operator import add"
   ]
  },
  {
   "cell_type": "code",
   "execution_count": null,
   "metadata": {},
   "outputs": [],
   "source": [
    "def init_spark():\n",
    "    spark = SparkSession.builder.appName(\"Tweets\").getOrCreate()\n",
    "    sc = spark.sparkContext\n",
    "    sql = SQLContext(sc)\n",
    "    return spark, sc, sql"
   ]
  },
  {
   "cell_type": "code",
   "execution_count": null,
   "metadata": {},
   "outputs": [],
   "source": [
    "spark, sc, sql = init_spark()"
   ]
  },
  {
   "cell_type": "code",
   "execution_count": null,
   "metadata": {},
   "outputs": [],
   "source": [
    "frases = frases.lower()\n",
    "lista_palavras = frases.split()"
   ]
  },
  {
   "cell_type": "code",
   "execution_count": null,
   "metadata": {},
   "outputs": [],
   "source": [
    "rdd1 = sc.parallelize(lista_palavras)\n",
    "row_rdd = rdd1.map(lambda x: Row(x))\n",
    "df = sql.createDataFrame(row_rdd,['palavras'])\n",
    "df.show()"
   ]
  },
  {
   "cell_type": "code",
   "execution_count": null,
   "metadata": {},
   "outputs": [],
   "source": [
    "df.withColumn('word', f.explode(f.split(f.col('palavras'), ' '))).groupBy('word').count().sort('count', ascending=False).show()\n"
   ]
  },
  {
   "cell_type": "code",
   "execution_count": null,
   "metadata": {},
   "outputs": [],
   "source": [
    "palavras_contadas = sc.parallelize(lista_palavras).map(lambda word: (word, 1)).reduceByKey(add)\n"
   ]
  },
  {
   "cell_type": "code",
   "execution_count": null,
   "metadata": {},
   "outputs": [],
   "source": [
    "palavras_contadas.saveAsTextFile('teste')"
   ]
  },
  {
   "cell_type": "code",
   "execution_count": null,
   "metadata": {},
   "outputs": [],
   "source": [
    "palavras_contadas.collect()"
   ]
  },
  {
   "cell_type": "code",
   "execution_count": null,
   "metadata": {},
   "outputs": [],
   "source": []
  }
 ],
 "metadata": {
  "kernelspec": {
   "display_name": "Python 3.10.5 64-bit",
   "language": "python",
   "name": "python3"
  },
  "language_info": {
   "name": "python",
   "version": "3.10.5"
  },
  "orig_nbformat": 4,
  "vscode": {
   "interpreter": {
    "hash": "2cb6a388fb29a4ca9dfda72ad694368ebd3f46c4891f60460a2af879d94adf59"
   }
  }
 },
 "nbformat": 4,
 "nbformat_minor": 2
}
